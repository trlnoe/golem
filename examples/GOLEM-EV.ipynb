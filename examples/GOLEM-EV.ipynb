{
 "cells": [
  {
   "cell_type": "markdown",
   "metadata": {},
   "source": [
    "# Demo of GOLEM-EV\n",
    "\n",
    "Dataset configurations:\n",
    "- Ground truth: 20-node ER2 graph\n",
    "- Data: Linear DAG model with Gaussian-EV noise."
   ]
  },
  {
   "cell_type": "markdown",
   "metadata": {},
   "source": [
    "## Run GOLEM-EV\n",
    "\n",
    "Each run creates a directory based on current datetime to save the training outputs. In this case it is `output/2020-12-01_12-11-50-562`."
   ]
  },
  {
   "cell_type": "code",
   "execution_count": 2,
   "metadata": {},
   "outputs": [
    {
     "name": "stdout",
     "output_type": "stream",
     "text": [
      "Traceback (most recent call last):\n",
      "  File \"/workspace/binhtlh/projects/causality/golem/src/main.py\", line 14, in <module>\n",
      "    from data_loader import SyntheticDataset\n",
      "  File \"/workspace/binhtlh/projects/causality/golem/src/data_loader/__init__.py\", line 1, in <module>\n",
      "    from data_loader.synthetic_dataset import SyntheticDataset\n",
      "  File \"/workspace/binhtlh/projects/causality/golem/src/data_loader/synthetic_dataset.py\", line 3, in <module>\n",
      "    import igraph as ig\n",
      "ModuleNotFoundError: No module named 'igraph'\n"
     ]
    }
   ],
   "source": [
    "!python /workspace/binhtlh/projects/causality/golem/src/main.py  --seed 1 \\\n",
    "                     --d 20 \\\n",
    "                     --graph_type ER \\\n",
    "                     --degree 4 \\\n",
    "                     --noise_type gaussian_ev \\\n",
    "                     --equal_variances \\\n",
    "                     --lambda_1 2e-2 \\\n",
    "                     --lambda_2 5.0 \\\n",
    "                     --checkpoint_iter 5000"
   ]
  }
 ],
 "metadata": {
  "kernelspec": {
   "display_name": "Python 3",
   "language": "python",
   "name": "python3"
  },
  "language_info": {
   "codemirror_mode": {
    "name": "ipython",
    "version": 3
   },
   "file_extension": ".py",
   "mimetype": "text/x-python",
   "name": "python",
   "nbconvert_exporter": "python",
   "pygments_lexer": "ipython3",
   "version": "3.8.10"
  }
 },
 "nbformat": 4,
 "nbformat_minor": 4
}
